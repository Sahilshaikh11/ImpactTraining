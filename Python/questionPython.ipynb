{
 "cells": [
  {
   "cell_type": "code",
   "execution_count": 1,
   "metadata": {},
   "outputs": [
    {
     "name": "stdout",
     "output_type": "stream",
     "text": [
      "you bill is 1470\n"
     ]
    }
   ],
   "source": [
    "# WAP to Calculate electricity bill based on given information(diff lab and rate per unit in each slab.)\n",
    "# read two values currentmonthreading and previousmonthreading & compute no of units\n",
    "currentMonth = int(input(\"Enter Current Month Reading: \"))\n",
    "previousMonth = int(input(\"Enter Previous Month Reading: \"))\n",
    "unit = currentMonth-previousMonth\n",
    "if unit>=1 and unit<=100:\n",
    "    bill = int(unit*2)+10\n",
    "    print(f\"you bill is {bill}\")\n",
    "elif unit>=101 and unit<=250:\n",
    "    bill = int(unit*3)+20\n",
    "    print(f\"you bill is {bill}\")\n",
    "elif unit>=251 and unit<=500:\n",
    "    bill = int(unit*4)+30\n",
    "    print(f\"you bill is {bill}\")\n",
    "elif unit>=501 and unit<=1000:\n",
    "    bill = int(unit*5)+40\n",
    "    print(f\"you bill is {bill}\")\n",
    "else :\n",
    "    bill = int(unit*7)+50\n",
    "    print(f\"you bill is {bill}\")"
   ]
  },
  {
   "cell_type": "code",
   "execution_count": 2,
   "metadata": {},
   "outputs": [
    {
     "name": "stdout",
     "output_type": "stream",
     "text": [
      "SUB\n"
     ]
    }
   ],
   "source": [
    "# Train Berth Problem\n",
    "n =int(input())\n",
    "seatvalue =(n%8)\n",
    "if(seatvalue == 1 or seatvalue == 4):\n",
    "    print(\"LB\")\n",
    "elif(seatvalue == 2 or seatvalue == 5):\n",
    "    print(\"MB\")\n",
    "elif(seatvalue == 3 or seatvalue == 6):\n",
    "    print(\"UB\")\n",
    "else :\n",
    "    if(seatvalue == 7):\n",
    "        print(\"SLB\")\n",
    "    else :\n",
    "        print(\"SUB\")"
   ]
  },
  {
   "cell_type": "code",
   "execution_count": 3,
   "metadata": {},
   "outputs": [
    {
     "name": "stdout",
     "output_type": "stream",
     "text": [
      "Scalene triangle\n"
     ]
    }
   ],
   "source": [
    "# Triangle problem\n",
    "x= input(\"X: \")\n",
    "y= input(\"Y: \")\n",
    "z= input(\"Z: \")\n",
    "if x == y == z:\n",
    "    print(\"Equilateral\")\n",
    "elif x==y or y==z or z==x:\n",
    "    print(\"isosceles\")\n",
    "else:\n",
    "    print(\"Scalene triangle\")"
   ]
  },
  {
   "cell_type": "code",
   "execution_count": null,
   "metadata": {},
   "outputs": [],
   "source": [
    "# print Length of integer\n",
    "a = [int(i) for i in input()]\n",
    "print(len(a)) # Method 1\n",
    "# Method 2\n",
    "N=int(input())\n",
    "if N in range(0,10):\n",
    "    print(\"One Digit\")\n",
    "elif N in range(10,100):\n",
    "    print(\"Two Digit\")\n",
    "elif N in range(100,1000):\n",
    "    print(\"three Digit\")\n",
    "else:\n",
    "    print(\"Something else\")"
   ]
  },
  {
   "cell_type": "code",
   "execution_count": null,
   "metadata": {},
   "outputs": [],
   "source": [
    "# Check whether a Char is Uppercase, Lowercase, number or a Special Character\n",
    "a=input()\n",
    "if ord(a) in range(65,91):\n",
    "    print(f\"{a} is a Uppercase\")\n",
    "elif ord(a) in range(97,123):\n",
    "    print(f\"{a} is a lowercase\")\n",
    "elif ord(a) in range(48,58):\n",
    "    print(f\"{a} is a Number\")\n",
    "else:\n",
    "    print(f\"{a} is a special Character\")"
   ]
  },
  {
   "cell_type": "code",
   "execution_count": null,
   "metadata": {},
   "outputs": [],
   "source": [
    "# WAP to Calculate Dog Years 1) for first 2 y is equivalent to 10.5, 2) after that 1y = 4\n",
    "n=int(input(\"Enter the dog year: \"))\n",
    "if n<=2:\n",
    "    print(\"Dog year is: \",n*10.5)\n",
    "elif n>2:\n",
    "    year=(n-2)*4+21\n",
    "    print(f\"Dog year is: {year}\")\n",
    "# Method 2\n",
    "n = int(input())\n",
    "print(((n-2)*4 + 2*10.5) if n>=2 else(n*10.5))"
   ]
  },
  {
   "cell_type": "code",
   "execution_count": null,
   "metadata": {},
   "outputs": [],
   "source": [
    "# WAP to print %age of vowels in a string\n",
    "b=[]\n",
    "a=input()\n",
    "for i in a:\n",
    "    if i in \"AEIOUaeiou\":\n",
    "        b.append(i)\n",
    "c=(len(b)/len(a))*100\n",
    "print(f\"{c}%\")"
   ]
  },
  {
   "cell_type": "code",
   "execution_count": 7,
   "metadata": {},
   "outputs": [
    {
     "name": "stdout",
     "output_type": "stream",
     "text": [
      "yes\n"
     ]
    },
    {
     "data": {
      "text/plain": [
       "'s = input()\\nctzero,ctone = 0,0\\nfor i in s:\\n    if i == \\'0\\':\\n        ctzero += 1\\n    else:\\n        ctone += 1\\nif ctzero == ctone or ctzero - 1 == ctone or ctone - 1 == ctzero:\\n    print(\"yes\")\\nelse:\\n    print(\"no\")'"
      ]
     },
     "execution_count": 7,
     "metadata": {},
     "output_type": "execute_result"
    }
   ],
   "source": [
    "# WAP that returns TRUE if the binary string can be rearranged to alternate 01 strings else FALSE\n",
    "n=input()\n",
    "a=[]\n",
    "b=[]\n",
    "for i in n:\n",
    "    if i==0:\n",
    "        a.append(i)\n",
    "    elif i==1:\n",
    "        b.append(i)\n",
    "if len(a)%2==0 and len(b)%2==0:\n",
    "    print(\"yes\")\n",
    "else:\n",
    "    print(\"No\")\n",
    "# Method 2\n",
    "'''s = input()\n",
    "ctzero,ctone = 0,0\n",
    "for i in s:\n",
    "    if i == '0':\n",
    "        ctzero += 1\n",
    "    else:\n",
    "        ctone += 1\n",
    "if ctzero == ctone or ctzero - 1 == ctone or ctone - 1 == ctzero:\n",
    "    print(\"yes\")\n",
    "else:\n",
    "    print(\"no\")'''"
   ]
  },
  {
   "cell_type": "code",
   "execution_count": 5,
   "metadata": {},
   "outputs": [
    {
     "name": "stdout",
     "output_type": "stream",
     "text": [
      "Binary and decimal \n"
     ]
    }
   ],
   "source": [
    "# WAP to verify if a decimal/binary is pallindrome or not\n",
    "a = input()\n",
    "b= True if a == a[::-1] else False\n",
    "a = (bin(int(a)))[2:]\n",
    "print(\"Binary and decimal \" if a==a[::-1] and b else \"binary\" if a==a[::-1] else \"decimal\" if b else \"niether\")"
   ]
  },
  {
   "cell_type": "code",
   "execution_count": 16,
   "metadata": {},
   "outputs": [
    {
     "name": "stdout",
     "output_type": "stream",
     "text": [
      "5350\n"
     ]
    }
   ],
   "source": [
    "# WAP list bonus of the employess according to days\n",
    "n=int(input(\"Enter numbe of days!..\"))\n",
    "if n<=32:\n",
    "    ans=0\n",
    "elif n<=40:\n",
    "    ans=(n-32)*325\n",
    "elif n<=48:\n",
    "    ans=(n-40)*550+8*325\n",
    "else:\n",
    "    ans=(n-48)*600+8*550+8*325\n",
    "print(ans)"
   ]
  },
  {
   "cell_type": "code",
   "execution_count": 20,
   "metadata": {},
   "outputs": [
    {
     "name": "stdout",
     "output_type": "stream",
     "text": [
      "The string is an integer\n"
     ]
    }
   ],
   "source": [
    "# WAP to check whether the input string is integer or not\n",
    "text = input(\"Enter a string: \")\n",
    "text.strip()\n",
    "if len(text) < 1:\n",
    "    print(\"Enter valid text!\")\n",
    "elif all(text[i] in \"0123456789\" for i in range(len(text))):\n",
    "    print(\"The string is an integer\")\n",
    "else:\n",
    "    print(\"The string isn't an integer\")"
   ]
  },
  {
   "cell_type": "code",
   "execution_count": 23,
   "metadata": {},
   "outputs": [
    {
     "name": "stdout",
     "output_type": "stream",
     "text": [
      "shahil, sumit & 1more online\n"
     ]
    }
   ],
   "source": [
    "# write a program to list name of the online members\n",
    "a=input().split()\n",
    "if not a:\n",
    "    print(\"No one is online!\")\n",
    "else:\n",
    "    if len(a)==1:\n",
    "        print(f\"{a[0]} is online\")\n",
    "    elif len(a)==2:\n",
    "        print(f\"{a[0]} and {a[1]} is online\")\n",
    "    else:\n",
    "        print(f\"{a[0]}, {a[1]} & {len(a)-2} more online\")\n",
    "    "
   ]
  },
  {
   "cell_type": "code",
   "execution_count": 26,
   "metadata": {},
   "outputs": [
    {
     "name": "stdout",
     "output_type": "stream",
     "text": [
      "4\n"
     ]
    }
   ],
   "source": [
    "# WAP to return no of time a can be divided and still be greater than b\n",
    "a=int(input())\n",
    "b=int(input())\n",
    "count=0\n",
    "while a>b:\n",
    "    a/=2\n",
    "    count+=1\n",
    "print(count-1)"
   ]
  },
  {
   "cell_type": "code",
   "execution_count": 32,
   "metadata": {},
   "outputs": [
    {
     "name": "stdout",
     "output_type": "stream",
     "text": [
      "4\n"
     ]
    }
   ],
   "source": [
    "# WAP to print leftmost digit of the string\n",
    "a = input()\n",
    "for i in a:\n",
    "    if ord(i)>=48 and ord(i)<58:\n",
    "        print(i)\n",
    "        break"
   ]
  },
  {
   "cell_type": "code",
   "execution_count": 9,
   "metadata": {},
   "outputs": [
    {
     "name": "stdout",
     "output_type": "stream",
     "text": [
      "4\n"
     ]
    }
   ],
   "source": [
    "string=\"aaaaa\"\n",
    "subString=\"aa\"\n",
    "count=0\n",
    "for i in range(0,len(string)):\n",
    "    if (string.count(subString,i,len(subString)+i)):\n",
    "        count+=1\n",
    "print(count)\n",
    "# Method 2\n",
    "# for i in range(len(string)-len(subString)+1):\n",
    "#     if string[i:i+len(subString)]==subString:\n",
    "#         count+=1\n",
    "# print(count)"
   ]
  },
  {
   "cell_type": "code",
   "execution_count": 14,
   "metadata": {},
   "outputs": [
    {
     "name": "stdout",
     "output_type": "stream",
     "text": [
      "Strong Password\n",
      "UC:1, LC:5, DC:3 and SC:1\n"
     ]
    }
   ],
   "source": [
    "# WAP to check if a password is strong or not\n",
    "password=input()\n",
    "uc = lc = dc = sc = 0\n",
    "if len(password) in range(8,17):\n",
    "    for i in password:\n",
    "        if i.isupper():\n",
    "            uc+=1\n",
    "        elif i.islower():\n",
    "            lc+=1\n",
    "        elif i.isdigit():\n",
    "            dc+=1\n",
    "        else:\n",
    "            sc+=1\n",
    "    if uc>=1 and lc>=1 and dc >=1 and sc>=1:\n",
    "        print(\"Strong Password\")\n",
    "    else:\n",
    "        print(\"Weak Password\")\n",
    "else:\n",
    "    print(\"Password lenght between 8-16\")\n",
    "print(f\"UC:{uc}, LC:{lc}, DC:{dc} and SC:{sc}\")"
   ]
  },
  {
   "cell_type": "code",
   "execution_count": 17,
   "metadata": {},
   "outputs": [
    {
     "name": "stdout",
     "output_type": "stream",
     "text": [
      "ehllo\n"
     ]
    }
   ],
   "source": [
    "# sort alphabets of the given string\n",
    "def sortAlpha(a):\n",
    "    b=(\"\".join(sorted(a)))\n",
    "    print(b)\n",
    "x=input()\n",
    "sortAlpha(x)"
   ]
  },
  {
   "cell_type": "code",
   "execution_count": 21,
   "metadata": {},
   "outputs": [
    {
     "name": "stdout",
     "output_type": "stream",
     "text": [
      "True\n"
     ]
    }
   ],
   "source": [
    "# X's and O's, Nobody knows\n",
    "a=str(input())\n",
    "c,d=0,0\n",
    "for i in a:\n",
    "    if \"x\"==i or \"X\"==i:\n",
    "        c+=1\n",
    "    elif \"o\"==i or \"O\"==i:\n",
    "        d+=1\n",
    "    else:\n",
    "        break\n",
    "if c==d:\n",
    "    print(True)\n",
    "else:\n",
    "    print(False)\n"
   ]
  },
  {
   "cell_type": "code",
   "execution_count": 23,
   "metadata": {},
   "outputs": [
    {
     "name": "stdout",
     "output_type": "stream",
     "text": [
      "3\n"
     ]
    }
   ],
   "source": [
    "# Hammming code the difference between string1 and string2\n",
    "a=input()\n",
    "b=input()\n",
    "c=0\n",
    "for i in range(len(a)):\n",
    "    if a[i]!=b[i]:\n",
    "        c+=1\n",
    "print(c)\n",
    "\n",
    "# Method 2\n",
    "def hd(a,b):\n",
    "    return sum(a != b for a,b in zip(a,b))\n",
    "# print(hd(a,b))\n"
   ]
  },
  {
   "cell_type": "code",
   "execution_count": 6,
   "metadata": {},
   "outputs": [
    {
     "name": "stdout",
     "output_type": "stream",
     "text": [
      "['ironman', 'batman', 'superman', 'chad', 'wolverine', 'deadpool']\n",
      "bcdisw is the secret society\n"
     ]
    }
   ],
   "source": [
    "# Secret Society Problem\n",
    "a=input().split()\n",
    "print(a)\n",
    "b=[]\n",
    "for i in a:\n",
    "    b.append(i[0])\n",
    "c=(\"\".join(sorted(b)))\n",
    "print(f\"{c} is the secret society\")"
   ]
  },
  {
   "cell_type": "code",
   "execution_count": 15,
   "metadata": {},
   "outputs": [
    {
     "name": "stdout",
     "output_type": "stream",
     "text": [
      "rockiiy\n"
     ]
    }
   ],
   "source": [
    "# Letters Only\n",
    "import string\n",
    "x=input()\n",
    "y = \"\"\n",
    "for i in x:\n",
    "    if i in string.ascii_letters:\n",
    "        y+=i\n",
    "print(y)"
   ]
  },
  {
   "cell_type": "code",
   "execution_count": 18,
   "metadata": {},
   "outputs": [
    {
     "name": "stdout",
     "output_type": "stream",
     "text": [
      "\"hello\"\n"
     ]
    }
   ],
   "source": [
    "# Uppercase to Lowercase\n",
    "string=input()\n",
    "for i in string:\n",
    "    if i.isupper():\n",
    "        string=string.replace(i,i.swapcase())\n",
    "print(string)"
   ]
  },
  {
   "cell_type": "code",
   "execution_count": 19,
   "metadata": {},
   "outputs": [
    {
     "name": "stdout",
     "output_type": "stream",
     "text": [
      "year new happy\n"
     ]
    }
   ],
   "source": [
    "# Reverse words of a string\n",
    "text=input()\n",
    "print(\" \".join(text.split()[::-1]))"
   ]
  },
  {
   "cell_type": "code",
   "execution_count": 1,
   "metadata": {},
   "outputs": [
    {
     "name": "stdout",
     "output_type": "stream",
     "text": [
      "The given string is a pangram.\n"
     ]
    }
   ],
   "source": [
    "#  Check the given string is panagram or not\n",
    "def is_pangram(sentence):\n",
    "    alphabet = set(\"abcdefghijklmnopqrstuvwxyz\")\n",
    "    sentence_set = set(sentence.lower())\n",
    "    return set(alphabet) <= sentence_set\n",
    "user_input = input(\"Enter a string: \")\n",
    "if is_pangram(user_input):\n",
    "    print(\"The given string is a pangram.\")\n",
    "else:\n",
    "    print(\"The given string is not a pangram.\")\n"
   ]
  },
  {
   "cell_type": "code",
   "execution_count": 2,
   "metadata": {},
   "outputs": [
    {
     "name": "stdout",
     "output_type": "stream",
     "text": [
      "The given strings are anagrams.\n"
     ]
    }
   ],
   "source": [
    "# Check the given string is anagram or not\n",
    "def are_anagrams(str1, str2):\n",
    "    str1 = str1.replace(\" \", \"\").lower()\n",
    "    str2 = str2.replace(\" \", \"\").lower()\n",
    "    return sorted(str1) == sorted(str2)\n",
    "string1 = input(\"Enter the first string: \")\n",
    "string2 = input(\"Enter the second string: \")\n",
    "if are_anagrams(string1, string2):\n",
    "    print(\"The given strings are anagrams.\")\n",
    "else:\n",
    "    print(\"The given strings are not anagrams.\")"
   ]
  },
  {
   "cell_type": "code",
   "execution_count": 5,
   "metadata": {},
   "outputs": [
    {
     "name": "stdout",
     "output_type": "stream",
     "text": [
      "aa#pp#l#le\n",
      "aple\n"
     ]
    }
   ],
   "source": [
    "# Backspace Implementation when \"#\" is encountered\n",
    "a = input()\n",
    "l = []\n",
    "print(a)\n",
    "for i in a:\n",
    "    if i!= '#':\n",
    "        l.append(i)\n",
    "    elif i == '#' and len(l) > 0:\n",
    "        l.pop()\n",
    "ans = \"\"\n",
    "for i in l:\n",
    "    ans += i\n",
    "print(ans)\n",
    "\n",
    "# Method 2\n",
    "# for i in a:\n",
    "#     if i != '#':\n",
    "#         l.append(i)\n",
    "#     elif len(i)>0:\n",
    "#         l.pop()\n",
    "# print(\"\".join(l))"
   ]
  },
  {
   "cell_type": "code",
   "execution_count": 1,
   "metadata": {},
   "outputs": [
    {
     "name": "stdout",
     "output_type": "stream",
     "text": [
      "['p1', 'q1', 'p2', 'q2', 'p3', 'q3', 'p4', 'q4']\n"
     ]
    }
   ],
   "source": [
    "# Nested List Comprehension\n",
    "my_list=['p','q']\n",
    "n=4\n",
    "new_list=['{}{}'.format(x,y) for y in range(1,n+1) for x in my_list]\n",
    "print(new_list)"
   ]
  },
  {
   "cell_type": "code",
   "execution_count": 7,
   "metadata": {},
   "outputs": [
    {
     "name": "stdout",
     "output_type": "stream",
     "text": [
      "['m', 'r', 'n', 'n', 'g']\n"
     ]
    }
   ],
   "source": [
    "# WAP to print str without vowels\n",
    "li = [i for i in input().lower() if i not in'aeiou']\n",
    "print(li)"
   ]
  },
  {
   "cell_type": "code",
   "execution_count": 20,
   "metadata": {},
   "outputs": [],
   "source": [
    "# WAP to check index of Uppercase in a string\n",
    "import string\n",
    "n=input()\n",
    "li = [i for i in range(len(n)) if n[i] in string.ascii_uppercase]\n",
    "print(li)"
   ]
  },
  {
   "cell_type": "code",
   "execution_count": 4,
   "metadata": {},
   "outputs": [
    {
     "name": "stdout",
     "output_type": "stream",
     "text": [
      "[[1, 2, 3, 4, 5], [6, 7, 8, 9, 10], [11, 12, 13, 14, 15], [16, 17, 18, 19, 20], [21, 22, 23, 24, 25]]\n"
     ]
    }
   ],
   "source": [
    "# Generate group of five consecutive numbers in a list\n",
    "li = [[5*i + j for j in range(1,6)] for i in range(5)]\n",
    "print(li)"
   ]
  },
  {
   "cell_type": "code",
   "execution_count": 6,
   "metadata": {},
   "outputs": [
    {
     "name": "stdout",
     "output_type": "stream",
     "text": [
      "[1, 5, 9, 4, 2, 9, 0, 0, 0, 0, 0, 0]\n"
     ]
    }
   ],
   "source": [
    "# Generate a list by placing all 0s at the end of the list\n",
    "li = [0,1,0,5,9,0,0,0,4,2,0,9]\n",
    "zero = [0 for i in range(li.count(0))]\n",
    "res = [i for i in li if i != 0]\n",
    "res.extend(zero)\n",
    "print(res)"
   ]
  },
  {
   "cell_type": "code",
   "execution_count": 7,
   "metadata": {},
   "outputs": [
    {
     "name": "stdout",
     "output_type": "stream",
     "text": [
      "[1, 2, 3]\n"
     ]
    }
   ],
   "source": [
    "# Generate a unique list\n",
    "li = [1,2,3,1,2,3]\n",
    "res=[]\n",
    "li = [res.append(i) for i in li if i not in res]\n",
    "print(res)"
   ]
  },
  {
   "cell_type": "code",
   "execution_count": 23,
   "metadata": {},
   "outputs": [
    {
     "name": "stdout",
     "output_type": "stream",
     "text": [
      "['0', '45']\n"
     ]
    }
   ],
   "source": [
    "# WAP to implement append,insert,pop,sort,reverse,display commands\n",
    "'''li=[]\n",
    "prog = True\n",
    "while prog:\n",
    "    dict={1:\"append()\", 2:\"insert()\",3:\"pop()\",4:\"sort()\",5:\"reverse()\",6:\"display()\",7:\"END()\"}\n",
    "    print(dict)\n",
    "    choice=int(input(\"Choose a command you want to perform\"))\n",
    "    if choice==1:\n",
    "        li.append(input(\"Enter the element to be appended: \"))\n",
    "        print(\"Element appended\")\n",
    "    elif choice==2:\n",
    "        c=input('Enter the element: ')\n",
    "        b=int(input(\"Enter the index\"))\n",
    "        li.insert(b,c)\n",
    "        print(\"Element inserted\")\n",
    "    elif choice==3:\n",
    "        li.pop()\n",
    "        print(\"Element Poppped\")\n",
    "    elif choice==4:\n",
    "        li.sort()\n",
    "        print(\"list sorted\")\n",
    "    elif choice==5:\n",
    "        li.reverse()\n",
    "        print(\"list reversed\")\n",
    "    elif choice==6:\n",
    "        print(f\"The list is: {li}\")\n",
    "    elif choice==7:\n",
    "        prog=False\n",
    "    else:\n",
    "        print(\"Enter valid command\") '''\n",
    "# Method 2 !! ------------------------------------------------------------------------------------------------------------------------- !!\n",
    "n=int(input(\"enter no. of commands: \"))\n",
    "li=[]\n",
    "while n>0:\n",
    "    cmd=input().split()\n",
    "    if cmd[0]==\"insert\":\n",
    "        li.insert(int(cmd[1]),cmd[2])\n",
    "    elif cmd[0]==\"pop\":\n",
    "        if len(li)>0:\n",
    "            li.pop()\n",
    "    elif cmd[0]==\"append\":\n",
    "        li.append(cmd[1])\n",
    "    elif cmd[0]==\"sort\":\n",
    "        if len(li)>0:\n",
    "            li.sort()\n",
    "    elif cmd[0]==\"reverse\":\n",
    "        if len(li)>0:\n",
    "            li.reverse()\n",
    "    elif cmd[0]==\"display\":\n",
    "        print(li)\n",
    "    n=n-1"
   ]
  },
  {
   "cell_type": "code",
   "execution_count": 22,
   "metadata": {},
   "outputs": [
    {
     "name": "stdout",
     "output_type": "stream",
     "text": [
      "# # # # # \n",
      "# $ $ $ #\n",
      "#       #\n",
      "#       #\n",
      "# # # # # \n"
     ]
    }
   ],
   "source": [
    "# Create hollow space with hashes(#) and fill the remaning areas with '$'\n",
    "# n=int(input())\n",
    "# for i in range(n):\n",
    "#     if (i==0 or i==n-1):\n",
    "#         print(n*\"# \")\n",
    "#     else:\n",
    "#         print(\"# \"+\"  \"*(n-2)+\"#\")\n",
    "a=int(input())\n",
    "fill=int(input())\n",
    "for i in range(a):\n",
    "    if i==0 or i==a-1:\n",
    "        print(\"# \"*a)\n",
    "    else:\n",
    "        print(\"#\", end=\" \")\n",
    "        j=0\n",
    "        while (j<a-2 and fill>0):\n",
    "            print(\"$\",end=\" \")\n",
    "            j+=1\n",
    "            fill -=1\n",
    "        while (j<a-2):\n",
    "            print(\" \",end=\" \")\n",
    "            j+=1\n",
    "        print(\"#\")\n",
    "if (fill>0):\n",
    "    print(fill, \"$ is still left.\")"
   ]
  },
  {
   "cell_type": "code",
   "execution_count": 26,
   "metadata": {},
   "outputs": [
    {
     "name": "stdout",
     "output_type": "stream",
     "text": [
      "1       5 \n",
      "\n",
      "  2   4   \n",
      "\n",
      "    3     \n",
      "\n",
      "  2   4   \n",
      "\n",
      "1       5 \n",
      "\n"
     ]
    }
   ],
   "source": [
    "# WAP to print following pattern\n",
    "# 1    5\n",
    "#  2  4\n",
    "#   3\n",
    "#  2  4\n",
    "# 1    5\n",
    "n = int(input())\n",
    "for i in range(0,n):\n",
    "    for j in range(0,n):\n",
    "        if i==j:\n",
    "            print(i+1, end=\" \")\n",
    "        elif (j==(n-1-i)):\n",
    "            print(n-i,end=\" \")\n",
    "        else:\n",
    "            print(\" \",end=\" \")\n",
    "    print('\\n')"
   ]
  },
  {
   "cell_type": "code",
   "execution_count": 27,
   "metadata": {},
   "outputs": [
    {
     "name": "stdout",
     "output_type": "stream",
     "text": [
      "1       5 \n",
      "\n",
      "  2   4   \n",
      "\n",
      "    3     \n",
      "\n"
     ]
    }
   ],
   "source": [
    "# WAP to print following pattern\n",
    "# 1    5\n",
    "#  2  4\n",
    "#   3\n",
    "n = int(input())\n",
    "for i in range(0,n//2+1):\n",
    "    for j in range(0,n):\n",
    "        if i==j:\n",
    "            print(i+1, end=\" \")\n",
    "        elif (j==(n-1-i)):\n",
    "            print(n-i,end=\" \")\n",
    "        else:\n",
    "            print(\" \",end=\" \")\n",
    "    print('\\n')"
   ]
  }
 ],
 "metadata": {
  "kernelspec": {
   "display_name": "Python 3",
   "language": "python",
   "name": "python3"
  },
  "language_info": {
   "codemirror_mode": {
    "name": "ipython",
    "version": 3
   },
   "file_extension": ".py",
   "mimetype": "text/x-python",
   "name": "python",
   "nbconvert_exporter": "python",
   "pygments_lexer": "ipython3",
   "version": "3.10.5"
  }
 },
 "nbformat": 4,
 "nbformat_minor": 2
}
