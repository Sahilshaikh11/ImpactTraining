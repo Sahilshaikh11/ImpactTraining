{
 "cells": [
  {
   "cell_type": "code",
   "execution_count": 1,
   "metadata": {},
   "outputs": [
    {
     "name": "stdout",
     "output_type": "stream",
     "text": [
      "you bill is 1470\n"
     ]
    }
   ],
   "source": [
    "# WAP to Calculate electricity bill based on given information(diff lab and rate per unit in each slab.)\n",
    "# read two values currentmonthreading and previousmonthreading & compute no of units\n",
    "currentMonth = int(input(\"Enter Current Month Reading: \"))\n",
    "previousMonth = int(input(\"Enter Previous Month Reading: \"))\n",
    "unit = currentMonth-previousMonth\n",
    "if unit>=1 and unit<=100:\n",
    "    bill = int(unit*2)+10\n",
    "    print(f\"you bill is {bill}\")\n",
    "elif unit>=101 and unit<=250:\n",
    "    bill = int(unit*3)+20\n",
    "    print(f\"you bill is {bill}\")\n",
    "elif unit>=251 and unit<=500:\n",
    "    bill = int(unit*4)+30\n",
    "    print(f\"you bill is {bill}\")\n",
    "elif unit>=501 and unit<=1000:\n",
    "    bill = int(unit*5)+40\n",
    "    print(f\"you bill is {bill}\")\n",
    "else :\n",
    "    bill = int(unit*7)+50\n",
    "    print(f\"you bill is {bill}\")"
   ]
  },
  {
   "cell_type": "code",
   "execution_count": 2,
   "metadata": {},
   "outputs": [
    {
     "name": "stdout",
     "output_type": "stream",
     "text": [
      "SUB\n"
     ]
    }
   ],
   "source": [
    "# Train Berth Problem\n",
    "n =int(input())\n",
    "seatvalue =(n%8)\n",
    "if(seatvalue == 1 or seatvalue == 4):\n",
    "    print(\"LB\")\n",
    "elif(seatvalue == 2 or seatvalue == 5):\n",
    "    print(\"MB\")\n",
    "elif(seatvalue == 3 or seatvalue == 6):\n",
    "    print(\"UB\")\n",
    "else :\n",
    "    if(seatvalue == 7):\n",
    "        print(\"SLB\")\n",
    "    else :\n",
    "        print(\"SUB\")"
   ]
  },
  {
   "cell_type": "code",
   "execution_count": 3,
   "metadata": {},
   "outputs": [
    {
     "name": "stdout",
     "output_type": "stream",
     "text": [
      "Scalene triangle\n"
     ]
    }
   ],
   "source": [
    "# Triangle problem\n",
    "x= input(\"X: \")\n",
    "y= input(\"Y: \")\n",
    "z= input(\"Z: \")\n",
    "if x == y == z:\n",
    "    print(\"Equilateral\")\n",
    "elif x==y or y==z or z==x:\n",
    "    print(\"isosceles\")\n",
    "else:\n",
    "    print(\"Scalene triangle\")"
   ]
  },
  {
   "cell_type": "code",
   "execution_count": null,
   "metadata": {},
   "outputs": [],
   "source": [
    "# print Length of integer\n",
    "a = [int(i) for i in input()]\n",
    "print(len(a)) # Method 1\n",
    "# Method 2\n",
    "N=int(input())\n",
    "if N in range(0,10):\n",
    "    print(\"One Digit\")\n",
    "elif N in range(10,100):\n",
    "    print(\"Two Digit\")\n",
    "elif N in range(100,1000):\n",
    "    print(\"three Digit\")\n",
    "else:\n",
    "    print(\"Something else\")"
   ]
  },
  {
   "cell_type": "code",
   "execution_count": null,
   "metadata": {},
   "outputs": [],
   "source": [
    "# Check whether a Char is Uppercase, Lowercase, number or a Special Character\n",
    "a=input()\n",
    "if ord(a) in range(65,91):\n",
    "    print(f\"{a} is a Uppercase\")\n",
    "elif ord(a) in range(97,123):\n",
    "    print(f\"{a} is a lowercase\")\n",
    "elif ord(a) in range(48,58):\n",
    "    print(f\"{a} is a Number\")\n",
    "else:\n",
    "    print(f\"{a} is a special Character\")"
   ]
  },
  {
   "cell_type": "code",
   "execution_count": null,
   "metadata": {},
   "outputs": [],
   "source": [
    "# WAP to Calculate Dog Years 1) for first 2 y is equivalent to 10.5, 2) after that 1y = 4\n",
    "n=int(input(\"Enter the dog year: \"))\n",
    "if n<=2:\n",
    "    print(\"Dog year is: \",n*10.5)\n",
    "elif n>2:\n",
    "    year=(n-2)*4+21\n",
    "    print(f\"Dog year is: {year}\")\n",
    "# Method 2\n",
    "n = int(input())\n",
    "print(((n-2)*4 + 2*10.5) if n>=2 else(n*10.5))"
   ]
  },
  {
   "cell_type": "code",
   "execution_count": null,
   "metadata": {},
   "outputs": [],
   "source": [
    "# WAP to print %age of vowels in a string\n",
    "b=[]\n",
    "a=input()\n",
    "for i in a:\n",
    "    if i in \"AEIOUaeiou\":\n",
    "        b.append(i)\n",
    "c=(len(b)/len(a))*100\n",
    "print(f\"{c}%\")"
   ]
  },
  {
   "cell_type": "code",
   "execution_count": 7,
   "metadata": {},
   "outputs": [
    {
     "name": "stdout",
     "output_type": "stream",
     "text": [
      "yes\n"
     ]
    },
    {
     "data": {
      "text/plain": [
       "'s = input()\\nctzero,ctone = 0,0\\nfor i in s:\\n    if i == \\'0\\':\\n        ctzero += 1\\n    else:\\n        ctone += 1\\nif ctzero == ctone or ctzero - 1 == ctone or ctone - 1 == ctzero:\\n    print(\"yes\")\\nelse:\\n    print(\"no\")'"
      ]
     },
     "execution_count": 7,
     "metadata": {},
     "output_type": "execute_result"
    }
   ],
   "source": [
    "# WAP that returns TRUE if the binary string can be rearranged to alternate 01 strings else FALSE\n",
    "n=input()\n",
    "a=[]\n",
    "b=[]\n",
    "for i in n:\n",
    "    if i==0:\n",
    "        a.append(i)\n",
    "    elif i==1:\n",
    "        b.append(i)\n",
    "if len(a)%2==0 and len(b)%2==0:\n",
    "    print(\"yes\")\n",
    "else:\n",
    "    print(\"No\")\n",
    "# Method 2\n",
    "'''s = input()\n",
    "ctzero,ctone = 0,0\n",
    "for i in s:\n",
    "    if i == '0':\n",
    "        ctzero += 1\n",
    "    else:\n",
    "        ctone += 1\n",
    "if ctzero == ctone or ctzero - 1 == ctone or ctone - 1 == ctzero:\n",
    "    print(\"yes\")\n",
    "else:\n",
    "    print(\"no\")'''"
   ]
  },
  {
   "cell_type": "code",
   "execution_count": 5,
   "metadata": {},
   "outputs": [
    {
     "name": "stdout",
     "output_type": "stream",
     "text": [
      "Binary and decimal \n"
     ]
    }
   ],
   "source": [
    "# WAP to verify if a decimal/binary is pallindrome or not\n",
    "a = input()\n",
    "b= True if a == a[::-1] else False\n",
    "a = (bin(int(a)))[2:]\n",
    "print(\"Binary and decimal \" if a==a[::-1] and b else \"binary\" if a==a[::-1] else \"decimal\" if b else \"niether\")"
   ]
  },
  {
   "cell_type": "code",
   "execution_count": 16,
   "metadata": {},
   "outputs": [
    {
     "name": "stdout",
     "output_type": "stream",
     "text": [
      "5350\n"
     ]
    }
   ],
   "source": [
    "# WAP list bonus of the employess according to days\n",
    "n=int(input(\"Enter numbe of days!..\"))\n",
    "if n<=32:\n",
    "    ans=0\n",
    "elif n<=40:\n",
    "    ans=(n-32)*325\n",
    "elif n<=48:\n",
    "    ans=(n-40)*550+8*325\n",
    "else:\n",
    "    ans=(n-48)*600+8*550+8*325\n",
    "print(ans)"
   ]
  },
  {
   "cell_type": "code",
   "execution_count": 20,
   "metadata": {},
   "outputs": [
    {
     "name": "stdout",
     "output_type": "stream",
     "text": [
      "The string is an integer\n"
     ]
    }
   ],
   "source": [
    "# WAP to check whether the input string is integer or not\n",
    "text = input(\"Enter a string: \")\n",
    "text.strip()\n",
    "if len(text) < 1:\n",
    "    print(\"Enter valid text!\")\n",
    "elif all(text[i] in \"0123456789\" for i in range(len(text))):\n",
    "    print(\"The string is an integer\")\n",
    "else:\n",
    "    print(\"The string isn't an integer\")"
   ]
  },
  {
   "cell_type": "code",
   "execution_count": 23,
   "metadata": {},
   "outputs": [
    {
     "name": "stdout",
     "output_type": "stream",
     "text": [
      "shahil, sumit & 1more online\n"
     ]
    }
   ],
   "source": [
    "# write a program to list name of the online members\n",
    "a=input().split()\n",
    "if not a:\n",
    "    print(\"No one is online!\")\n",
    "else:\n",
    "    if len(a)==1:\n",
    "        print(f\"{a[0]} is online\")\n",
    "    elif len(a)==2:\n",
    "        print(f\"{a[0]} and {a[1]} is online\")\n",
    "    else:\n",
    "        print(f\"{a[0]}, {a[1]} & {len(a)-2} more online\")\n",
    "    "
   ]
  },
  {
   "cell_type": "code",
   "execution_count": 26,
   "metadata": {},
   "outputs": [
    {
     "name": "stdout",
     "output_type": "stream",
     "text": [
      "4\n"
     ]
    }
   ],
   "source": [
    "# WAP to return no of time a can be divided and still be greater than b\n",
    "a=int(input())\n",
    "b=int(input())\n",
    "count=0\n",
    "while a>b:\n",
    "    a/=2\n",
    "    count+=1\n",
    "print(count-1)"
   ]
  },
  {
   "cell_type": "code",
   "execution_count": 32,
   "metadata": {},
   "outputs": [
    {
     "name": "stdout",
     "output_type": "stream",
     "text": [
      "4\n"
     ]
    }
   ],
   "source": [
    "# WAP to print leftmost digit of the string\n",
    "a = input()\n",
    "for i in a:\n",
    "    if ord(i)>=48 and ord(i)<58:\n",
    "        print(i)\n",
    "        break"
   ]
  }
 ],
 "metadata": {
  "kernelspec": {
   "display_name": "Python 3",
   "language": "python",
   "name": "python3"
  },
  "language_info": {
   "codemirror_mode": {
    "name": "ipython",
    "version": 3
   },
   "file_extension": ".py",
   "mimetype": "text/x-python",
   "name": "python",
   "nbconvert_exporter": "python",
   "pygments_lexer": "ipython3",
   "version": "3.10.5"
  }
 },
 "nbformat": 4,
 "nbformat_minor": 2
}
